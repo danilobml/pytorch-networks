{
  "nbformat": 4,
  "nbformat_minor": 0,
  "metadata": {
    "colab": {
      "provenance": [],
      "gpuType": "T4",
      "authorship_tag": "ABX9TyPzO0ib5pFusZfCrBa19n7h",
      "include_colab_link": true
    },
    "kernelspec": {
      "name": "python3",
      "display_name": "Python 3"
    },
    "language_info": {
      "name": "python"
    },
    "accelerator": "GPU"
  },
  "cells": [
    {
      "cell_type": "markdown",
      "metadata": {
        "id": "view-in-github",
        "colab_type": "text"
      },
      "source": [
        "<a href=\"https://colab.research.google.com/github/danilobml/pytorch-networks/blob/main/basic_image_classifying_neural_network.ipynb\" target=\"_parent\"><img src=\"https://colab.research.google.com/assets/colab-badge.svg\" alt=\"Open In Colab\"/></a>"
      ]
    },
    {
      "cell_type": "code",
      "execution_count": null,
      "metadata": {
        "id": "ur1gMufbc3Mw",
        "collapsed": true
      },
      "outputs": [],
      "source": [
        "# Get datasets:\n",
        "from torchvision import datasets\n",
        "from torchvision.transforms import ToTensor\n",
        "\n",
        "training_data = datasets.MNIST(root='.', train=True, download=True, transform=ToTensor())\n",
        "test_data = datasets.MNIST(root='.', train=False, download=True, transform=ToTensor())"
      ]
    },
    {
      "cell_type": "code",
      "source": [
        "# Load data with DataLoaders\n",
        "from torch.utils.data import DataLoader\n",
        "\n",
        "loaded_train = DataLoader(training_data, batch_size=64, shuffle=True)\n",
        "loaded_test = DataLoader(test_data, batch_size=64, shuffle=True)"
      ],
      "metadata": {
        "id": "amEpiSYnlWvu"
      },
      "execution_count": null,
      "outputs": []
    },
    {
      "cell_type": "code",
      "source": [
        "# Create the Neural Network model:\n",
        "from torch import nn\n",
        "\n",
        "class NeuralNetwork(nn.Module):\n",
        "  def __init__(self):\n",
        "    # Call super, with this class as argument:\n",
        "    super(NeuralNetwork, self).__init__()\n",
        "    # Transform the data from multidimensional to one dimension only:\n",
        "    self.flatten = nn.Flatten()\n",
        "    # Create a sequence of layers to transform the data inside the network:\n",
        "    self.linear_relu_stack = nn.Sequential(\n",
        "        # Applies an affine linear transformation to the incoming data:\n",
        "        # (size_of_input, size_of_output)\n",
        "        nn.Linear(28*28, 512),\n",
        "        # Applies the rectified linear unit function element-wise:\n",
        "        nn.ReLU(),\n",
        "        nn.Linear(512, 512),\n",
        "        nn.ReLU(),\n",
        "        nn.Linear(512, 10)\n",
        "    )\n",
        "\n",
        "  # forward is called when model is executed:\n",
        "  def forward(self, x):\n",
        "      x = self.flatten(x)\n",
        "      logits = self.linear_relu_stack(x)\n",
        "      return logits\n",
        "\n",
        "\n",
        "# instantiate the model:\n",
        "model = NeuralNetwork()\n",
        "print(model)"
      ],
      "metadata": {
        "id": "FKY7x4YzmQBk",
        "collapsed": true
      },
      "execution_count": null,
      "outputs": []
    },
    {
      "cell_type": "code",
      "source": [
        "import torch\n",
        "# Training the model:\n",
        "# 1. set a loss function -> measures how far our model is from the correct\n",
        "# results, and it's what we'll try to minimize during the training of the network.\n",
        "# Cross-entropy is a common loss function used for classification tasks\n",
        "\n",
        "loss_function = nn.CrossEntropyLoss()\n",
        "\n",
        "# 2. set optimization algorythm -> adjusts the model during the training process\n",
        "# in order to minimize the error measured by the loss function. A common choice\n",
        "# for this kind of task is the stochastic gradient descent algorithm (SGD).\n",
        "# (model params, learning rate: float ->  speed at which the model's parameters\n",
        "# will be updated during each iteration in training)\n",
        "\n",
        "optimizer = torch.optim.SGD(model.parameters(), lr=0.001)"
      ],
      "metadata": {
        "id": "MknYSdHimYta"
      },
      "execution_count": null,
      "outputs": []
    },
    {
      "cell_type": "code",
      "source": [
        "# Train and test the network:\n",
        "\n",
        "# For each of these tasks, we'll implement a function.\n",
        "\n",
        "# 1. Train function -> consists of looping through the data one batch at a time,\n",
        "# using the optimizer to adjust the model, and computing the prediction and the\n",
        "# loss:\n",
        "\n",
        "def train(dataloader: DataLoader, model: NeuralNetwork, loss_fn, optimizer):\n",
        "  size = len(dataloader.dataset)\n",
        "  for batch, (X, y) in enumerate(dataloader):\n",
        "    pred = model(X)\n",
        "    loss = loss_fn(pred, y)\n",
        "\n",
        "    # Resets the gradients of all optimized torch.Tensor:\n",
        "    optimizer.zero_grad()\n",
        "    loss.backward()\n",
        "    # Performs a single optimization step:\n",
        "    optimizer.step()\n",
        "\n",
        "    if batch:\n",
        "      loss, current = loss.item(), batch * len(X)\n",
        "      print(f\"loss: {loss:>7f}  [{current:>5d}/{size:>5d}]\")"
      ],
      "metadata": {
        "id": "XR_Yt5N-136D"
      },
      "execution_count": null,
      "outputs": []
    },
    {
      "cell_type": "code",
      "source": [
        "# 2. Test function -> computes the accuracy and the loss, this time using the\n",
        "# test set:\n",
        "\n",
        "def test(dataloader: DataLoader, model: NeuralNetwork, loss_fn):\n",
        "  size = len(dataloader.dataset)\n",
        "  num_batches = len(dataloader)\n",
        "  test_loss, correct = 0, 0\n",
        "  # Context-manager that disables gradient calculation:\n",
        "  with torch.no_grad():\n",
        "    for X, y in dataloader:\n",
        "      pred = model(X)\n",
        "      test_loss += loss_fn(pred, y).item()\n",
        "      correct += (pred.argmax(1) == y).type(torch.float).sum().item()\n",
        "\n",
        "  test_loss /= num_batches\n",
        "  correct /= size\n",
        "  print(f\"Test Error: \\n Accuracy: {(100*correct):>0.1f}%, Avg loss: {test_loss:>8f} \\n\")"
      ],
      "metadata": {
        "id": "61pwRote3hnR"
      },
      "execution_count": null,
      "outputs": []
    },
    {
      "cell_type": "code",
      "source": [
        "# 3. Set the number of epochs to train our model.\n",
        "# An epoch consists of an iteration over the dataset:\n",
        "\n",
        "epochs = 7\n",
        "\n",
        "# RUN!!\n",
        "for t in range(epochs):\n",
        "  print(f\"Epoch {t+1}\\n-------------------------------\")\n",
        "  train(loaded_train, model, loss_function, optimizer)\n",
        "  test(loaded_test, model, loss_function)\n",
        "\n",
        "print(\"Done!\")"
      ],
      "metadata": {
        "id": "SuIVMU_f8iEM"
      },
      "execution_count": null,
      "outputs": []
    },
    {
      "cell_type": "code",
      "source": [
        "# With the model finally trained, save it and load it when necessary:\n",
        "\n",
        "torch.save(model, 'model.pth')\n",
        "model1 = torch.load('model.pth')"
      ],
      "metadata": {
        "id": "PTdSmYXk-WSR",
        "collapsed": true
      },
      "execution_count": null,
      "outputs": []
    },
    {
      "cell_type": "code",
      "source": [
        "# Use the model to predict the class of an image:\n",
        "from PIL import Image\n",
        "from torchvision.transforms import ToTensor, Compose, Normalize\n",
        "\n",
        "# import image from google drive:\n",
        "from google.colab import drive\n",
        "drive.mount('/content/drive')\n",
        "\n",
        "# 1.Load the image\n",
        "image = Image.open('number_image.png').convert('L')\n",
        "image.save('/content/drive/My Drive/number_image.png')\n",
        "\n",
        "# 2. Resize the image\n",
        "# image = image.resize((28, 28)) # Resize the image to 28x28 pixels\n",
        "\n",
        "# 3.Preprocess the image\n",
        "transform = Compose([\n",
        "    ToTensor(),\n",
        "    Normalize((0.1307,), (0.3081,)) # Normalize the image\n",
        "])\n",
        "image_tensor = transform(image)\n",
        "\n",
        "# 4.Make a prediction\n",
        "with torch.no_grad():\n",
        "  output = model1(image_tensor)\n",
        "  predicted_class = output.argmax(1).item()\n",
        "\n",
        "print(f'Predicted class: {predicted_class}')"
      ],
      "metadata": {
        "id": "w49RL9NEkJ6a",
        "collapsed": true
      },
      "execution_count": null,
      "outputs": []
    },
    {
      "cell_type": "code",
      "source": [],
      "metadata": {
        "id": "IO2BLjJclQYq"
      },
      "execution_count": null,
      "outputs": []
    }
  ]
}